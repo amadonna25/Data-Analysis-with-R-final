{
 "cells": [
  {
   "cell_type": "markdown",
   "metadata": {},
   "source": [
    "<center><img src=\"https://cf-courses-data.s3.us.cloud-object-storage.appdomain.cloud/assets/logos/SN_web_lightmode.png\" width=\"300\"></center><br/>\n",
    "\n",
    "# Assignment: Notebook for Peer Assignment\n",
    "\n",
    "Estimated time needed: 60 minutes\n"
   ]
  },
  {
   "cell_type": "markdown",
   "metadata": {},
   "source": [
    "# Assignment Scenario\n",
    "\n",
    "Congratulations! You have just been hired by a US Weather forecast firm as a data scientist.\n",
    "\n",
    "The company is considering the weather condition to help predict the possibility of precipitations, which involves using various local climatological variables, including temperature, wind speed, humidity, dew point, and pressure. The data you will be handling was collected by a NOAA weather station located at the John F. Kennedy International Airport in Queens, New York.\n",
    "\n",
    "Your task is to provide a high level analysis of weather data in JFK Airport. Your stakeholders want to understand the current and historical record of precipitations based on different variables. For now they are mainly interested in a macro-view of JFK Airport Weather, and how it relates to the possibility to rain because it will affect flight delays and etc.\n"
   ]
  },
  {
   "cell_type": "markdown",
   "metadata": {},
   "source": [
    "# Introduction\n",
    "\n",
    "This project relates to the NOAA Weather Dataset - JFK Airport (New York). The original dataset contains 114,546 hourly observations of 12 local climatological variables (such as temperature and wind speed) collected at JFK airport. This dataset can be obtained for free from the IBM Developer [Data Asset Exchange](https://developer.ibm.com/exchanges/data/all/jfk-weather-data/). \n",
    "\n",
    "For this project, you will be using a subset dataset, which contains 5727 rows (about 5% or original rows) and 9 columns. The end goal will be to predict the precipitation using some of the available features. In this project, you will practice reading data files, preprocessing data, creating models, improving models and evaluating them to ultimately choose the best model.\n",
    "\n"
   ]
  },
  {
   "cell_type": "markdown",
   "metadata": {},
   "source": [
    "\n",
    "## Table of Contents:\n",
    "\n",
    "Using this R notebook you will complete **10 tasks**:\n",
    "* [0. Import Modules](#cell0)\n",
    "* [1. Download and Unzip NOAA Weather Dataset](#cell1)\n",
    "* [2. Read Dataset into Project](#cell2)\n",
    "* [3. Select Subset of Columns](#cell3)\n",
    "* [4. Clean Up Columns](#cell4)\n",
    "* [5. Convert Columns to Numerical Types](#cell5)\n",
    "* [6. Rename Columns](#cell6)\n",
    "* [7. Exploratory Data Analysis](#cell7)\n",
    "* [8. Linear Regression](#cell8)\n",
    "* [9. Improve the Model](#cell9)\n",
    "* [10. Find Best Model](#cell10)\n",
    "\n",
    "\n",
    "<a id=\"cell0\"></a>\n",
    "## 0. Import required modules\n",
    "\n",
    "Tidymodels is a collection of packages that use tidyverse principles to easily do the entire modeling process from preprocessing initial data, to creating a model, to tunning hyperparameters. The tidymodels packages can be used to produce high quality statistical and machine learning models. Our Jupyter notebook platforms have a built-in Tidyverse, Tidymodels and rlang packages so we do not need to install these packages prior to loading library. However, if you decide to run this lab on your RStudio Desktop locally on your machine, you can remove the commented lines of code to install these packages before loading.\n",
    " \n"
   ]
  },
  {
   "cell_type": "code",
   "execution_count": null,
   "metadata": {
    "tags": []
   },
   "outputs": [],
   "source": [
    "# Install tidymodels if you haven't done so\n",
    "install.packages(\"rlang\")\n",
    "install.packages(\"tidymodels\")"
   ]
  },
  {
   "cell_type": "markdown",
   "metadata": {},
   "source": [
    "**Note: After installing the packages, restart the kernel. Without installing the packages again, load them. Tidyverse and Tidymodels will be the two main packages you will use.**\n"
   ]
  },
  {
   "cell_type": "code",
   "execution_count": 33,
   "metadata": {
    "tags": []
   },
   "outputs": [],
   "source": [
    "# Library for modeling\n",
    "library(tidymodels)\n",
    "\n",
    "# Load tidyverse\n",
    "library(tidyverse)"
   ]
  },
  {
   "cell_type": "markdown",
   "metadata": {},
   "source": [
    "\n",
    "### Understand the Dataset\n",
    "\n",
    "The original NOAA JFK dataset contains 114,546 hourly observations of various local climatological variables (including temperature, wind speed, humidity, dew point, and pressure). \n",
    "\n",
    "In this project you will use a sample dataset, which is around 293 KB. [Link to the sample dataset](https://dax-cdn.cdn.appdomain.cloud/dax-noaa-weather-data-jfk-airport/1.1.4/noaa-weather-sample-data.tar.gz).\n",
    "\n",
    "The sample contains 5727 rows (about 5% or original rows) and 9 columns, which are:\n",
    "- DATE\n",
    "- HOURLYDewPointTempF\n",
    "- HOURLYRelativeHumidity\n",
    "- HOURLYDRYBULBTEMPF\n",
    "- HOURLYWETBULBTEMPF\n",
    "- HOURLYPrecip\n",
    "- HOURLYWindSpeed\n",
    "- HOURLYSeaLevelPressure\n",
    "- HOURLYStationPressure\n",
    "\n",
    "The original dataset is much bigger. Feel free to explore the original dataset. [Link to the original dataset.](https://dax-cdn.cdn.appdomain.cloud/dax-noaa-weather-data-jfk-airport/1.1.4/noaa_weather.html) \n",
    "\n",
    "For more information about the dataset, checkout the [preview](https://dax-cdn.cdn.appdomain.cloud/dax-noaa-weather-data-jfk-airport/1.1.4/data-preview/index.html?_ga=2.176781478.281508226.1616293518-1509963377.1616117067&cm_mc_uid=90945889198916153255549&cm_mc_sid_50200000=64650651616293516933) of NOAA Weather - JFK Airport.\n"
   ]
  },
  {
   "cell_type": "markdown",
   "metadata": {},
   "source": [
    "<a id=\"cell1\"></a>\n",
    "\n",
    "## 1. Download NOAA Weather Dataset\n",
    "\n",
    "Use the `download.file()` function to download the sample dataset from the URL below.\n",
    "\n",
    "URL = 'https://dax-cdn.cdn.appdomain.cloud/dax-noaa-weather-data-jfk-airport/1.1.4/noaa-weather-sample-data.tar.gz'\n"
   ]
  },
  {
   "cell_type": "code",
   "execution_count": 34,
   "metadata": {
    "tags": []
   },
   "outputs": [],
   "source": [
    "url <- 'https://dax-cdn.cdn.appdomain.cloud/dax-noaa-weather-data-jfk-airport/1.1.4/noaa-weather-sample-data.tar.gz'\n",
    "download.file(url, destfile = \"noaa-weather-sample-data.tar.gz\")"
   ]
  },
  {
   "cell_type": "markdown",
   "metadata": {},
   "source": [
    "Untar the zipped file.\n"
   ]
  },
  {
   "cell_type": "code",
   "execution_count": 35,
   "metadata": {
    "tags": []
   },
   "outputs": [
    {
     "name": "stderr",
     "output_type": "stream",
     "text": [
      "Warning message in untar2(tarfile, files, list, exdir, restore_times):\n",
      "“using pax extended headers”"
     ]
    }
   ],
   "source": [
    "untar(\"noaa-weather-sample-data.tar.gz\", tar = \"internal\")"
   ]
  },
  {
   "cell_type": "markdown",
   "metadata": {},
   "source": [
    "<a id=\"cell2\"></a>\n",
    "## 2. Extract and Read into Project\n",
    "We start by reading in the raw dataset. You should specify the file name as \"noaa-weather-sample-data/jfk_weather_sample.csv\".\n"
   ]
  },
  {
   "cell_type": "code",
   "execution_count": 36,
   "metadata": {
    "tags": []
   },
   "outputs": [],
   "source": [
    "weathersample <- read.csv(\"noaa-weather-sample-data/jfk_weather_sample.csv\", stringsAsFactors = FALSE)"
   ]
  },
  {
   "cell_type": "markdown",
   "metadata": {},
   "source": [
    "Next, display the first few rows of the dataframe.\n"
   ]
  },
  {
   "cell_type": "code",
   "execution_count": 37,
   "metadata": {
    "tags": []
   },
   "outputs": [
    {
     "data": {
      "text/html": [
       "<table>\n",
       "<caption>A data.frame: 6 × 9</caption>\n",
       "<thead>\n",
       "\t<tr><th></th><th scope=col>DATE</th><th scope=col>HOURLYDewPointTempF</th><th scope=col>HOURLYRelativeHumidity</th><th scope=col>HOURLYDRYBULBTEMPF</th><th scope=col>HOURLYWETBULBTEMPF</th><th scope=col>HOURLYPrecip</th><th scope=col>HOURLYWindSpeed</th><th scope=col>HOURLYSeaLevelPressure</th><th scope=col>HOURLYStationPressure</th></tr>\n",
       "\t<tr><th></th><th scope=col>&lt;chr&gt;</th><th scope=col>&lt;chr&gt;</th><th scope=col>&lt;int&gt;</th><th scope=col>&lt;int&gt;</th><th scope=col>&lt;int&gt;</th><th scope=col>&lt;chr&gt;</th><th scope=col>&lt;int&gt;</th><th scope=col>&lt;dbl&gt;</th><th scope=col>&lt;dbl&gt;</th></tr>\n",
       "</thead>\n",
       "<tbody>\n",
       "\t<tr><th scope=row>1</th><td>2015-07-25T13:51:00Z</td><td>60</td><td>46</td><td>83</td><td>68</td><td>0.00</td><td>13</td><td>30.01</td><td>29.99</td></tr>\n",
       "\t<tr><th scope=row>2</th><td>2016-11-18T23:51:00Z</td><td>34</td><td>48</td><td>53</td><td>44</td><td>0.00</td><td> 6</td><td>30.05</td><td>30.03</td></tr>\n",
       "\t<tr><th scope=row>3</th><td>2013-01-06T08:51:00Z</td><td>33</td><td>89</td><td>36</td><td>35</td><td>0.00</td><td>13</td><td>30.14</td><td>30.12</td></tr>\n",
       "\t<tr><th scope=row>4</th><td>2011-01-27T16:51:00Z</td><td>18</td><td>48</td><td>36</td><td>30</td><td>0.00</td><td>14</td><td>29.82</td><td>29.80</td></tr>\n",
       "\t<tr><th scope=row>5</th><td>2015-01-03T12:16:00Z</td><td>27</td><td>61</td><td>39</td><td>34</td><td>T   </td><td>11</td><td>   NA</td><td>30.50</td></tr>\n",
       "\t<tr><th scope=row>6</th><td>2013-02-15T20:51:00Z</td><td>35</td><td>79</td><td>41</td><td>38</td><td>0.00</td><td> 6</td><td>29.94</td><td>29.92</td></tr>\n",
       "</tbody>\n",
       "</table>\n"
      ],
      "text/latex": [
       "A data.frame: 6 × 9\n",
       "\\begin{tabular}{r|lllllllll}\n",
       "  & DATE & HOURLYDewPointTempF & HOURLYRelativeHumidity & HOURLYDRYBULBTEMPF & HOURLYWETBULBTEMPF & HOURLYPrecip & HOURLYWindSpeed & HOURLYSeaLevelPressure & HOURLYStationPressure\\\\\n",
       "  & <chr> & <chr> & <int> & <int> & <int> & <chr> & <int> & <dbl> & <dbl>\\\\\n",
       "\\hline\n",
       "\t1 & 2015-07-25T13:51:00Z & 60 & 46 & 83 & 68 & 0.00 & 13 & 30.01 & 29.99\\\\\n",
       "\t2 & 2016-11-18T23:51:00Z & 34 & 48 & 53 & 44 & 0.00 &  6 & 30.05 & 30.03\\\\\n",
       "\t3 & 2013-01-06T08:51:00Z & 33 & 89 & 36 & 35 & 0.00 & 13 & 30.14 & 30.12\\\\\n",
       "\t4 & 2011-01-27T16:51:00Z & 18 & 48 & 36 & 30 & 0.00 & 14 & 29.82 & 29.80\\\\\n",
       "\t5 & 2015-01-03T12:16:00Z & 27 & 61 & 39 & 34 & T    & 11 &    NA & 30.50\\\\\n",
       "\t6 & 2013-02-15T20:51:00Z & 35 & 79 & 41 & 38 & 0.00 &  6 & 29.94 & 29.92\\\\\n",
       "\\end{tabular}\n"
      ],
      "text/markdown": [
       "\n",
       "A data.frame: 6 × 9\n",
       "\n",
       "| <!--/--> | DATE &lt;chr&gt; | HOURLYDewPointTempF &lt;chr&gt; | HOURLYRelativeHumidity &lt;int&gt; | HOURLYDRYBULBTEMPF &lt;int&gt; | HOURLYWETBULBTEMPF &lt;int&gt; | HOURLYPrecip &lt;chr&gt; | HOURLYWindSpeed &lt;int&gt; | HOURLYSeaLevelPressure &lt;dbl&gt; | HOURLYStationPressure &lt;dbl&gt; |\n",
       "|---|---|---|---|---|---|---|---|---|---|\n",
       "| 1 | 2015-07-25T13:51:00Z | 60 | 46 | 83 | 68 | 0.00 | 13 | 30.01 | 29.99 |\n",
       "| 2 | 2016-11-18T23:51:00Z | 34 | 48 | 53 | 44 | 0.00 |  6 | 30.05 | 30.03 |\n",
       "| 3 | 2013-01-06T08:51:00Z | 33 | 89 | 36 | 35 | 0.00 | 13 | 30.14 | 30.12 |\n",
       "| 4 | 2011-01-27T16:51:00Z | 18 | 48 | 36 | 30 | 0.00 | 14 | 29.82 | 29.80 |\n",
       "| 5 | 2015-01-03T12:16:00Z | 27 | 61 | 39 | 34 | T    | 11 |    NA | 30.50 |\n",
       "| 6 | 2013-02-15T20:51:00Z | 35 | 79 | 41 | 38 | 0.00 |  6 | 29.94 | 29.92 |\n",
       "\n"
      ],
      "text/plain": [
       "  DATE                 HOURLYDewPointTempF HOURLYRelativeHumidity\n",
       "1 2015-07-25T13:51:00Z 60                  46                    \n",
       "2 2016-11-18T23:51:00Z 34                  48                    \n",
       "3 2013-01-06T08:51:00Z 33                  89                    \n",
       "4 2011-01-27T16:51:00Z 18                  48                    \n",
       "5 2015-01-03T12:16:00Z 27                  61                    \n",
       "6 2013-02-15T20:51:00Z 35                  79                    \n",
       "  HOURLYDRYBULBTEMPF HOURLYWETBULBTEMPF HOURLYPrecip HOURLYWindSpeed\n",
       "1 83                 68                 0.00         13             \n",
       "2 53                 44                 0.00          6             \n",
       "3 36                 35                 0.00         13             \n",
       "4 36                 30                 0.00         14             \n",
       "5 39                 34                 T            11             \n",
       "6 41                 38                 0.00          6             \n",
       "  HOURLYSeaLevelPressure HOURLYStationPressure\n",
       "1 30.01                  29.99                \n",
       "2 30.05                  30.03                \n",
       "3 30.14                  30.12                \n",
       "4 29.82                  29.80                \n",
       "5    NA                  30.50                \n",
       "6 29.94                  29.92                "
      ]
     },
     "metadata": {},
     "output_type": "display_data"
    }
   ],
   "source": [
    "head(weathersample)"
   ]
  },
  {
   "cell_type": "markdown",
   "metadata": {},
   "source": [
    "Also, take a `glimpse` of the dataset to see the different column data types and make sure it is the correct subset dataset with about 5700 rows and 9 columns.\n"
   ]
  },
  {
   "cell_type": "code",
   "execution_count": 11,
   "metadata": {
    "tags": []
   },
   "outputs": [
    {
     "name": "stdout",
     "output_type": "stream",
     "text": [
      "Rows: 5,727\n",
      "Columns: 9\n",
      "$ DATE                   <chr> \"2015-07-25T13:51:00Z\", \"2016-11-18T23:51:00Z\"…\n",
      "$ HOURLYDewPointTempF    <chr> \"60\", \"34\", \"33\", \"18\", \"27\", \"35\", \"4\", \"14\",…\n",
      "$ HOURLYRelativeHumidity <int> 46, 48, 89, 48, 61, 79, 51, 65, 90, 94, 79, 37…\n",
      "$ HOURLYDRYBULBTEMPF     <int> 83, 53, 36, 36, 39, 41, 19, 24, 54, 73, 83, 44…\n",
      "$ HOURLYWETBULBTEMPF     <int> 68, 44, 35, 30, 34, 38, 15, 21, 52, 72, 78, 35…\n",
      "$ HOURLYPrecip           <chr> \"0.00\", \"0.00\", \"0.00\", \"0.00\", \"T\", \"0.00\", \"…\n",
      "$ HOURLYWindSpeed        <int> 13, 6, 13, 14, 11, 6, 0, 11, 11, 5, 21, 7, 17,…\n",
      "$ HOURLYSeaLevelPressure <dbl> 30.01, 30.05, 30.14, 29.82, NA, 29.94, 30.42, …\n",
      "$ HOURLYStationPressure  <dbl> 29.99, 30.03, 30.12, 29.80, 30.50, 29.92, 30.4…\n"
     ]
    }
   ],
   "source": [
    "glimpse(weathersample)"
   ]
  },
  {
   "cell_type": "markdown",
   "metadata": {},
   "source": [
    "<a id=\"cell3\"></a>\n",
    "## 3. Select Subset of Columns\n",
    "\n",
    "The end goal of this project will be to predict `HOURLYprecip` (precipitation) using a few other variables. Before you can do this, you first need to preprocess the dataset. Section 3 to section 6 focuses on preprocessing.\n",
    "\n",
    "The first step in preprocessing is to select a subset of data columns and inspect the column types.\n",
    "\n",
    "The key columns that we will explore in this project are:\n",
    "- HOURLYRelativeHumidity\n",
    "- HOURLYDRYBULBTEMPF\n",
    "- HOURLYPrecip\n",
    "- HOURLYWindSpeed\n",
    "- HOURLYStationPressure\n",
    "\n",
    "Data Glossary:\n",
    "- 'HOURLYRelativeHumidity' is the relative humidity given to the nearest whole percentage.\n",
    "- 'HOURLYDRYBULBTEMPF' is the dry-bulb temperature and is commonly used as the standard air temperature reported. It is given here in whole degrees Fahrenheit.\n",
    "- 'HOURLYPrecip' is the amount of precipitation in inches to hundredths over the past hour. For certain automated stations, precipitation will be reported at sub-hourly intervals (e.g. every 15 or 20 minutes) as an accumulated amount of all precipitation within the preceding hour. A “T” indicates a trace amount of precipitation.\n",
    "- 'HOURLYWindSpeed' is the speed of the wind at the time of observation given in miles per hour (mph).\n",
    "- 'HOURLYStationPressure' is the atmospheric pressure observed at the station during the time of observation. Given in inches of Mercury (in Hg).\n",
    "\n",
    "`Select` those five columns and store the modified dataframe as a new variable.\n"
   ]
  },
  {
   "cell_type": "code",
   "execution_count": 38,
   "metadata": {
    "tags": []
   },
   "outputs": [],
   "source": [
    "weathersample_vars <- weathersample %>% select(HOURLYRelativeHumidity, HOURLYDRYBULBTEMPF, HOURLYPrecip, \n",
    "                                               HOURLYWindSpeed, HOURLYStationPressure)"
   ]
  },
  {
   "cell_type": "markdown",
   "metadata": {},
   "source": [
    "Show the first 10 rows of this new dataframe.\n"
   ]
  },
  {
   "cell_type": "code",
   "execution_count": 39,
   "metadata": {
    "tags": []
   },
   "outputs": [
    {
     "data": {
      "text/html": [
       "<table>\n",
       "<caption>A data.frame: 10 × 5</caption>\n",
       "<thead>\n",
       "\t<tr><th></th><th scope=col>HOURLYRelativeHumidity</th><th scope=col>HOURLYDRYBULBTEMPF</th><th scope=col>HOURLYPrecip</th><th scope=col>HOURLYWindSpeed</th><th scope=col>HOURLYStationPressure</th></tr>\n",
       "\t<tr><th></th><th scope=col>&lt;int&gt;</th><th scope=col>&lt;int&gt;</th><th scope=col>&lt;chr&gt;</th><th scope=col>&lt;int&gt;</th><th scope=col>&lt;dbl&gt;</th></tr>\n",
       "</thead>\n",
       "<tbody>\n",
       "\t<tr><th scope=row>1</th><td>46</td><td>83</td><td>0.00</td><td>13</td><td>29.99</td></tr>\n",
       "\t<tr><th scope=row>2</th><td>48</td><td>53</td><td>0.00</td><td> 6</td><td>30.03</td></tr>\n",
       "\t<tr><th scope=row>3</th><td>89</td><td>36</td><td>0.00</td><td>13</td><td>30.12</td></tr>\n",
       "\t<tr><th scope=row>4</th><td>48</td><td>36</td><td>0.00</td><td>14</td><td>29.80</td></tr>\n",
       "\t<tr><th scope=row>5</th><td>61</td><td>39</td><td>T   </td><td>11</td><td>30.50</td></tr>\n",
       "\t<tr><th scope=row>6</th><td>79</td><td>41</td><td>0.00</td><td> 6</td><td>29.92</td></tr>\n",
       "\t<tr><th scope=row>7</th><td>51</td><td>19</td><td>0.00</td><td> 0</td><td>30.40</td></tr>\n",
       "\t<tr><th scope=row>8</th><td>65</td><td>24</td><td>0.00</td><td>11</td><td>30.35</td></tr>\n",
       "\t<tr><th scope=row>9</th><td>90</td><td>54</td><td>0.06</td><td>11</td><td>30.03</td></tr>\n",
       "\t<tr><th scope=row>10</th><td>94</td><td>73</td><td>NA  </td><td> 5</td><td>29.91</td></tr>\n",
       "</tbody>\n",
       "</table>\n"
      ],
      "text/latex": [
       "A data.frame: 10 × 5\n",
       "\\begin{tabular}{r|lllll}\n",
       "  & HOURLYRelativeHumidity & HOURLYDRYBULBTEMPF & HOURLYPrecip & HOURLYWindSpeed & HOURLYStationPressure\\\\\n",
       "  & <int> & <int> & <chr> & <int> & <dbl>\\\\\n",
       "\\hline\n",
       "\t1 & 46 & 83 & 0.00 & 13 & 29.99\\\\\n",
       "\t2 & 48 & 53 & 0.00 &  6 & 30.03\\\\\n",
       "\t3 & 89 & 36 & 0.00 & 13 & 30.12\\\\\n",
       "\t4 & 48 & 36 & 0.00 & 14 & 29.80\\\\\n",
       "\t5 & 61 & 39 & T    & 11 & 30.50\\\\\n",
       "\t6 & 79 & 41 & 0.00 &  6 & 29.92\\\\\n",
       "\t7 & 51 & 19 & 0.00 &  0 & 30.40\\\\\n",
       "\t8 & 65 & 24 & 0.00 & 11 & 30.35\\\\\n",
       "\t9 & 90 & 54 & 0.06 & 11 & 30.03\\\\\n",
       "\t10 & 94 & 73 & NA   &  5 & 29.91\\\\\n",
       "\\end{tabular}\n"
      ],
      "text/markdown": [
       "\n",
       "A data.frame: 10 × 5\n",
       "\n",
       "| <!--/--> | HOURLYRelativeHumidity &lt;int&gt; | HOURLYDRYBULBTEMPF &lt;int&gt; | HOURLYPrecip &lt;chr&gt; | HOURLYWindSpeed &lt;int&gt; | HOURLYStationPressure &lt;dbl&gt; |\n",
       "|---|---|---|---|---|---|\n",
       "| 1 | 46 | 83 | 0.00 | 13 | 29.99 |\n",
       "| 2 | 48 | 53 | 0.00 |  6 | 30.03 |\n",
       "| 3 | 89 | 36 | 0.00 | 13 | 30.12 |\n",
       "| 4 | 48 | 36 | 0.00 | 14 | 29.80 |\n",
       "| 5 | 61 | 39 | T    | 11 | 30.50 |\n",
       "| 6 | 79 | 41 | 0.00 |  6 | 29.92 |\n",
       "| 7 | 51 | 19 | 0.00 |  0 | 30.40 |\n",
       "| 8 | 65 | 24 | 0.00 | 11 | 30.35 |\n",
       "| 9 | 90 | 54 | 0.06 | 11 | 30.03 |\n",
       "| 10 | 94 | 73 | NA   |  5 | 29.91 |\n",
       "\n"
      ],
      "text/plain": [
       "   HOURLYRelativeHumidity HOURLYDRYBULBTEMPF HOURLYPrecip HOURLYWindSpeed\n",
       "1  46                     83                 0.00         13             \n",
       "2  48                     53                 0.00          6             \n",
       "3  89                     36                 0.00         13             \n",
       "4  48                     36                 0.00         14             \n",
       "5  61                     39                 T            11             \n",
       "6  79                     41                 0.00          6             \n",
       "7  51                     19                 0.00          0             \n",
       "8  65                     24                 0.00         11             \n",
       "9  90                     54                 0.06         11             \n",
       "10 94                     73                 NA            5             \n",
       "   HOURLYStationPressure\n",
       "1  29.99                \n",
       "2  30.03                \n",
       "3  30.12                \n",
       "4  29.80                \n",
       "5  30.50                \n",
       "6  29.92                \n",
       "7  30.40                \n",
       "8  30.35                \n",
       "9  30.03                \n",
       "10 29.91                "
      ]
     },
     "metadata": {},
     "output_type": "display_data"
    }
   ],
   "source": [
    "head(weathersample_vars, 10)"
   ]
  },
  {
   "cell_type": "markdown",
   "metadata": {},
   "source": [
    "<a id=\"cell4\"></a>\n",
    "## 4. Clean Up Columns\n",
    "\n",
    "From the dataframe preview above, we can see that the column `HOURLYPrecip` - which is the hourly measure of precipitation levels - contains both `NA` and `T` values. `T` specifies *trace amounts of precipitation* (meaning essentially no precipitation), while `NA` means *not available*, and is used to denote missing values. Additionally, some values also have \"s\" at the end of them, indicating that the precipitation was snow. \n",
    "\n",
    "Inspect the unique values present in the column `HOURLYPrecip` (with `unique(dataframe$column)`) to see these values.\n"
   ]
  },
  {
   "cell_type": "code",
   "execution_count": 40,
   "metadata": {
    "tags": []
   },
   "outputs": [
    {
     "data": {
      "text/html": [
       "<style>\n",
       ".list-inline {list-style: none; margin:0; padding: 0}\n",
       ".list-inline>li {display: inline-block}\n",
       ".list-inline>li:not(:last-child)::after {content: \"\\00b7\"; padding: 0 .5ex}\n",
       "</style>\n",
       "<ol class=list-inline><li>'0.00'</li><li>'T'</li><li>'0.06'</li><li>NA</li><li>'0.03'</li><li>'0.02'</li><li>'0.08'</li><li>'0.01'</li><li>'0.07'</li><li>'0.16'</li><li>'0.09'</li><li>'0.22'</li><li>'0.02s'</li><li>'0.24'</li><li>'0.18'</li><li>'0.05'</li><li>'0.04'</li><li>'0.09s'</li><li>'0.11'</li><li>'0.14'</li><li>'0.25'</li><li>'0.10'</li><li>'0.01s'</li><li>'0.58'</li><li>'0.12'</li><li>'0.13'</li><li>'0.46'</li><li>'1.07'</li><li>'1.19'</li><li>'0.34'</li><li>'0.20'</li><li>'0.36s'</li><li>'0.42'</li><li>'0.17'</li><li>'0.27'</li><li>'0.35'</li><li>'0.31'</li><li>'0.33'</li><li>'0.23'</li><li>'0.26'</li><li>'0.28'</li><li>'0.75'</li><li>'0.19'</li><li>'0.36'</li><li>'0.03s'</li><li>'0.07s'</li><li>'0.54'</li><li>'0.59'</li><li>'0.21'</li></ol>\n"
      ],
      "text/latex": [
       "\\begin{enumerate*}\n",
       "\\item '0.00'\n",
       "\\item 'T'\n",
       "\\item '0.06'\n",
       "\\item NA\n",
       "\\item '0.03'\n",
       "\\item '0.02'\n",
       "\\item '0.08'\n",
       "\\item '0.01'\n",
       "\\item '0.07'\n",
       "\\item '0.16'\n",
       "\\item '0.09'\n",
       "\\item '0.22'\n",
       "\\item '0.02s'\n",
       "\\item '0.24'\n",
       "\\item '0.18'\n",
       "\\item '0.05'\n",
       "\\item '0.04'\n",
       "\\item '0.09s'\n",
       "\\item '0.11'\n",
       "\\item '0.14'\n",
       "\\item '0.25'\n",
       "\\item '0.10'\n",
       "\\item '0.01s'\n",
       "\\item '0.58'\n",
       "\\item '0.12'\n",
       "\\item '0.13'\n",
       "\\item '0.46'\n",
       "\\item '1.07'\n",
       "\\item '1.19'\n",
       "\\item '0.34'\n",
       "\\item '0.20'\n",
       "\\item '0.36s'\n",
       "\\item '0.42'\n",
       "\\item '0.17'\n",
       "\\item '0.27'\n",
       "\\item '0.35'\n",
       "\\item '0.31'\n",
       "\\item '0.33'\n",
       "\\item '0.23'\n",
       "\\item '0.26'\n",
       "\\item '0.28'\n",
       "\\item '0.75'\n",
       "\\item '0.19'\n",
       "\\item '0.36'\n",
       "\\item '0.03s'\n",
       "\\item '0.07s'\n",
       "\\item '0.54'\n",
       "\\item '0.59'\n",
       "\\item '0.21'\n",
       "\\end{enumerate*}\n"
      ],
      "text/markdown": [
       "1. '0.00'\n",
       "2. 'T'\n",
       "3. '0.06'\n",
       "4. NA\n",
       "5. '0.03'\n",
       "6. '0.02'\n",
       "7. '0.08'\n",
       "8. '0.01'\n",
       "9. '0.07'\n",
       "10. '0.16'\n",
       "11. '0.09'\n",
       "12. '0.22'\n",
       "13. '0.02s'\n",
       "14. '0.24'\n",
       "15. '0.18'\n",
       "16. '0.05'\n",
       "17. '0.04'\n",
       "18. '0.09s'\n",
       "19. '0.11'\n",
       "20. '0.14'\n",
       "21. '0.25'\n",
       "22. '0.10'\n",
       "23. '0.01s'\n",
       "24. '0.58'\n",
       "25. '0.12'\n",
       "26. '0.13'\n",
       "27. '0.46'\n",
       "28. '1.07'\n",
       "29. '1.19'\n",
       "30. '0.34'\n",
       "31. '0.20'\n",
       "32. '0.36s'\n",
       "33. '0.42'\n",
       "34. '0.17'\n",
       "35. '0.27'\n",
       "36. '0.35'\n",
       "37. '0.31'\n",
       "38. '0.33'\n",
       "39. '0.23'\n",
       "40. '0.26'\n",
       "41. '0.28'\n",
       "42. '0.75'\n",
       "43. '0.19'\n",
       "44. '0.36'\n",
       "45. '0.03s'\n",
       "46. '0.07s'\n",
       "47. '0.54'\n",
       "48. '0.59'\n",
       "49. '0.21'\n",
       "\n",
       "\n"
      ],
      "text/plain": [
       " [1] \"0.00\"  \"T\"     \"0.06\"  NA      \"0.03\"  \"0.02\"  \"0.08\"  \"0.01\"  \"0.07\" \n",
       "[10] \"0.16\"  \"0.09\"  \"0.22\"  \"0.02s\" \"0.24\"  \"0.18\"  \"0.05\"  \"0.04\"  \"0.09s\"\n",
       "[19] \"0.11\"  \"0.14\"  \"0.25\"  \"0.10\"  \"0.01s\" \"0.58\"  \"0.12\"  \"0.13\"  \"0.46\" \n",
       "[28] \"1.07\"  \"1.19\"  \"0.34\"  \"0.20\"  \"0.36s\" \"0.42\"  \"0.17\"  \"0.27\"  \"0.35\" \n",
       "[37] \"0.31\"  \"0.33\"  \"0.23\"  \"0.26\"  \"0.28\"  \"0.75\"  \"0.19\"  \"0.36\"  \"0.03s\"\n",
       "[46] \"0.07s\" \"0.54\"  \"0.59\"  \"0.21\" "
      ]
     },
     "metadata": {},
     "output_type": "display_data"
    }
   ],
   "source": [
    "unique(weathersample_vars$HOURLYPrecip)"
   ]
  },
  {
   "cell_type": "markdown",
   "metadata": {},
   "source": [
    "Having characters in values (like the \"T\" and \"s\" that you see in the unique values) will cause problems when you create a model because values for precipitation should be numerical. So you need to fix these values that have characters. \n",
    "\n",
    "Now, for the column `HOURLYPrecip`:\n",
    "1. Replace all the `T` values with \"0.0\" and \n",
    "2. Remove \"s\" from values like \"0.02s\". In R, you can use the method `str_remove(column, pattern = \"s$\")` to remove the character \"s\" from the end of values. The \"$\" tells R to match to the end of values. The `pattern` is a regex pattern. Look at [here](https://www.rdocumentation.org/packages/stringi/versions/1.5.3/topics/about_search_regex) for more information about regex and matching to strings in R.\n",
    "\n",
    "Remember that you can use `tidyverse`'s  `mutate()` to update columns.\n",
    "\n",
    "You can check your work by checking if unique values of `HOURLYPrecip` still contain any `T` or `s`. Store the modified dataframe as a new variable.\n"
   ]
  },
  {
   "cell_type": "code",
   "execution_count": 42,
   "metadata": {
    "tags": []
   },
   "outputs": [
    {
     "data": {
      "text/html": [
       "<style>\n",
       ".list-inline {list-style: none; margin:0; padding: 0}\n",
       ".list-inline>li {display: inline-block}\n",
       ".list-inline>li:not(:last-child)::after {content: \"\\00b7\"; padding: 0 .5ex}\n",
       "</style>\n",
       "<ol class=list-inline><li>'0.00'</li><li>'0.0'</li><li>'0.06'</li><li>NA</li><li>'0.03'</li><li>'0.02'</li><li>'0.08'</li><li>'0.01'</li><li>'0.07'</li><li>'0.16'</li><li>'0.09'</li><li>'0.22'</li><li>'0.24'</li><li>'0.18'</li><li>'0.05'</li><li>'0.04'</li><li>'0.11'</li><li>'0.14'</li><li>'0.25'</li><li>'0.10'</li><li>'0.58'</li><li>'0.12'</li><li>'0.13'</li><li>'0.46'</li><li>'1.07'</li><li>'1.19'</li><li>'0.34'</li><li>'0.20'</li><li>'0.36'</li><li>'0.42'</li><li>'0.17'</li><li>'0.27'</li><li>'0.35'</li><li>'0.31'</li><li>'0.33'</li><li>'0.23'</li><li>'0.26'</li><li>'0.28'</li><li>'0.75'</li><li>'0.19'</li><li>'0.54'</li><li>'0.59'</li><li>'0.21'</li></ol>\n"
      ],
      "text/latex": [
       "\\begin{enumerate*}\n",
       "\\item '0.00'\n",
       "\\item '0.0'\n",
       "\\item '0.06'\n",
       "\\item NA\n",
       "\\item '0.03'\n",
       "\\item '0.02'\n",
       "\\item '0.08'\n",
       "\\item '0.01'\n",
       "\\item '0.07'\n",
       "\\item '0.16'\n",
       "\\item '0.09'\n",
       "\\item '0.22'\n",
       "\\item '0.24'\n",
       "\\item '0.18'\n",
       "\\item '0.05'\n",
       "\\item '0.04'\n",
       "\\item '0.11'\n",
       "\\item '0.14'\n",
       "\\item '0.25'\n",
       "\\item '0.10'\n",
       "\\item '0.58'\n",
       "\\item '0.12'\n",
       "\\item '0.13'\n",
       "\\item '0.46'\n",
       "\\item '1.07'\n",
       "\\item '1.19'\n",
       "\\item '0.34'\n",
       "\\item '0.20'\n",
       "\\item '0.36'\n",
       "\\item '0.42'\n",
       "\\item '0.17'\n",
       "\\item '0.27'\n",
       "\\item '0.35'\n",
       "\\item '0.31'\n",
       "\\item '0.33'\n",
       "\\item '0.23'\n",
       "\\item '0.26'\n",
       "\\item '0.28'\n",
       "\\item '0.75'\n",
       "\\item '0.19'\n",
       "\\item '0.54'\n",
       "\\item '0.59'\n",
       "\\item '0.21'\n",
       "\\end{enumerate*}\n"
      ],
      "text/markdown": [
       "1. '0.00'\n",
       "2. '0.0'\n",
       "3. '0.06'\n",
       "4. NA\n",
       "5. '0.03'\n",
       "6. '0.02'\n",
       "7. '0.08'\n",
       "8. '0.01'\n",
       "9. '0.07'\n",
       "10. '0.16'\n",
       "11. '0.09'\n",
       "12. '0.22'\n",
       "13. '0.24'\n",
       "14. '0.18'\n",
       "15. '0.05'\n",
       "16. '0.04'\n",
       "17. '0.11'\n",
       "18. '0.14'\n",
       "19. '0.25'\n",
       "20. '0.10'\n",
       "21. '0.58'\n",
       "22. '0.12'\n",
       "23. '0.13'\n",
       "24. '0.46'\n",
       "25. '1.07'\n",
       "26. '1.19'\n",
       "27. '0.34'\n",
       "28. '0.20'\n",
       "29. '0.36'\n",
       "30. '0.42'\n",
       "31. '0.17'\n",
       "32. '0.27'\n",
       "33. '0.35'\n",
       "34. '0.31'\n",
       "35. '0.33'\n",
       "36. '0.23'\n",
       "37. '0.26'\n",
       "38. '0.28'\n",
       "39. '0.75'\n",
       "40. '0.19'\n",
       "41. '0.54'\n",
       "42. '0.59'\n",
       "43. '0.21'\n",
       "\n",
       "\n"
      ],
      "text/plain": [
       " [1] \"0.00\" \"0.0\"  \"0.06\" NA     \"0.03\" \"0.02\" \"0.08\" \"0.01\" \"0.07\" \"0.16\"\n",
       "[11] \"0.09\" \"0.22\" \"0.24\" \"0.18\" \"0.05\" \"0.04\" \"0.11\" \"0.14\" \"0.25\" \"0.10\"\n",
       "[21] \"0.58\" \"0.12\" \"0.13\" \"0.46\" \"1.07\" \"1.19\" \"0.34\" \"0.20\" \"0.36\" \"0.42\"\n",
       "[31] \"0.17\" \"0.27\" \"0.35\" \"0.31\" \"0.33\" \"0.23\" \"0.26\" \"0.28\" \"0.75\" \"0.19\"\n",
       "[41] \"0.54\" \"0.59\" \"0.21\""
      ]
     },
     "metadata": {},
     "output_type": "display_data"
    }
   ],
   "source": [
    "### Note: Github was having issues reading the $ operator. In some places, I had to\n",
    "### enclose variables in two \"$\"'s in the github editor. Example: clean_precip$HOURLYPrecip$ \n",
    "###instead of clean_precip$HOURLYPrecip. This is only in github and the code was ran in the project\n",
    "### lab using the normal format. This issue occurred in parts 4, 9 and 10.\n",
    "clean_precip <- weathersample_vars\n",
    "clean_precip$HOURLYPrecip[clean_precip$HOURLYPrecip == \"T\"] <- \"0.0\"\n",
    "clean_precip$HOURLYPrecip <- str_remove(clean_precip$HOURLYPrecip, \"s$\")\n",
    "unique(clean_precip$HOURLYPrecip)"
   ]
  },
  {
   "cell_type": "markdown",
   "metadata": {},
   "source": [
    "<a id=\"cell5\"></a>\n",
    "## 5. Convert Columns to Numerical Types\n",
    "Now that you have removed the characters in the `HOURLYPrecip` column, you can safely covert the column to a numeric type.\n",
    "\n",
    "First, check the types of the columns. You will notice that all are `dbl` (double or numeric) except for `HOURLYPrecip`, which is `chr` (character or string). Use the `glimpse` function from Tidyverse.\n"
   ]
  },
  {
   "cell_type": "code",
   "execution_count": 43,
   "metadata": {
    "tags": []
   },
   "outputs": [
    {
     "name": "stdout",
     "output_type": "stream",
     "text": [
      "Rows: 5,727\n",
      "Columns: 5\n",
      "$ HOURLYRelativeHumidity <int> 46, 48, 89, 48, 61, 79, 51, 65, 90, 94, 79, 37…\n",
      "$ HOURLYDRYBULBTEMPF     <int> 83, 53, 36, 36, 39, 41, 19, 24, 54, 73, 83, 44…\n",
      "$ HOURLYPrecip           <chr> \"0.00\", \"0.00\", \"0.00\", \"0.00\", \"0.0\", \"0.00\",…\n",
      "$ HOURLYWindSpeed        <int> 13, 6, 13, 14, 11, 6, 0, 11, 11, 5, 21, 7, 17,…\n",
      "$ HOURLYStationPressure  <dbl> 29.99, 30.03, 30.12, 29.80, 30.50, 29.92, 30.4…\n"
     ]
    }
   ],
   "source": [
    "glimpse(clean_precip)"
   ]
  },
  {
   "cell_type": "markdown",
   "metadata": {},
   "source": [
    "Convert `HOURLYPrecip` to the `numeric` type and store the cleaned dataframe as a new variable.\n"
   ]
  },
  {
   "cell_type": "code",
   "execution_count": 44,
   "metadata": {
    "tags": []
   },
   "outputs": [],
   "source": [
    "precip_as_num <- clean_precip %>% mutate_if(is.character, as.numeric)"
   ]
  },
  {
   "cell_type": "markdown",
   "metadata": {},
   "source": [
    "We can now see that all fields have numerical data type.\n"
   ]
  },
  {
   "cell_type": "code",
   "execution_count": 45,
   "metadata": {
    "tags": []
   },
   "outputs": [
    {
     "name": "stdout",
     "output_type": "stream",
     "text": [
      "Rows: 5,727\n",
      "Columns: 5\n",
      "$ HOURLYRelativeHumidity <int> 46, 48, 89, 48, 61, 79, 51, 65, 90, 94, 79, 37…\n",
      "$ HOURLYDRYBULBTEMPF     <int> 83, 53, 36, 36, 39, 41, 19, 24, 54, 73, 83, 44…\n",
      "$ HOURLYPrecip           <dbl> 0.00, 0.00, 0.00, 0.00, 0.00, 0.00, 0.00, 0.00…\n",
      "$ HOURLYWindSpeed        <int> 13, 6, 13, 14, 11, 6, 0, 11, 11, 5, 21, 7, 17,…\n",
      "$ HOURLYStationPressure  <dbl> 29.99, 30.03, 30.12, 29.80, 30.50, 29.92, 30.4…\n"
     ]
    }
   ],
   "source": [
    "glimpse(precip_as_num)"
   ]
  },
  {
   "cell_type": "markdown",
   "metadata": {},
   "source": [
    "<a id=\"cell6\"></a>\n",
    "## 6. Rename Columns\n",
    "Let's rename the following columns as:\n",
    "- 'HOURLYRelativeHumidity' to 'relative_humidity'\n",
    "- 'HOURLYDRYBULBTEMPF' to 'dry_bulb_temp_f'\n",
    "- 'HOURLYPrecip' to 'precip'\n",
    "- 'HOURLYWindSpeed' to 'wind_speed'\n",
    "- 'HOURLYStationPressure' to 'station_pressure'\n",
    "\n",
    "You can use `dplyr::rename()`. Then, store the final dataframe as a new variable.\n"
   ]
  },
  {
   "cell_type": "code",
   "execution_count": 46,
   "metadata": {
    "tags": []
   },
   "outputs": [
    {
     "data": {
      "text/html": [
       "<table>\n",
       "<caption>A data.frame: 6 × 5</caption>\n",
       "<thead>\n",
       "\t<tr><th></th><th scope=col>relative_humidity</th><th scope=col>dry_bulb_temp_f</th><th scope=col>precip</th><th scope=col>wind_speed</th><th scope=col>station_pressure</th></tr>\n",
       "\t<tr><th></th><th scope=col>&lt;int&gt;</th><th scope=col>&lt;int&gt;</th><th scope=col>&lt;dbl&gt;</th><th scope=col>&lt;int&gt;</th><th scope=col>&lt;dbl&gt;</th></tr>\n",
       "</thead>\n",
       "<tbody>\n",
       "\t<tr><th scope=row>1</th><td>46</td><td>83</td><td>0</td><td>13</td><td>29.99</td></tr>\n",
       "\t<tr><th scope=row>2</th><td>48</td><td>53</td><td>0</td><td> 6</td><td>30.03</td></tr>\n",
       "\t<tr><th scope=row>3</th><td>89</td><td>36</td><td>0</td><td>13</td><td>30.12</td></tr>\n",
       "\t<tr><th scope=row>4</th><td>48</td><td>36</td><td>0</td><td>14</td><td>29.80</td></tr>\n",
       "\t<tr><th scope=row>5</th><td>61</td><td>39</td><td>0</td><td>11</td><td>30.50</td></tr>\n",
       "\t<tr><th scope=row>6</th><td>79</td><td>41</td><td>0</td><td> 6</td><td>29.92</td></tr>\n",
       "</tbody>\n",
       "</table>\n"
      ],
      "text/latex": [
       "A data.frame: 6 × 5\n",
       "\\begin{tabular}{r|lllll}\n",
       "  & relative\\_humidity & dry\\_bulb\\_temp\\_f & precip & wind\\_speed & station\\_pressure\\\\\n",
       "  & <int> & <int> & <dbl> & <int> & <dbl>\\\\\n",
       "\\hline\n",
       "\t1 & 46 & 83 & 0 & 13 & 29.99\\\\\n",
       "\t2 & 48 & 53 & 0 &  6 & 30.03\\\\\n",
       "\t3 & 89 & 36 & 0 & 13 & 30.12\\\\\n",
       "\t4 & 48 & 36 & 0 & 14 & 29.80\\\\\n",
       "\t5 & 61 & 39 & 0 & 11 & 30.50\\\\\n",
       "\t6 & 79 & 41 & 0 &  6 & 29.92\\\\\n",
       "\\end{tabular}\n"
      ],
      "text/markdown": [
       "\n",
       "A data.frame: 6 × 5\n",
       "\n",
       "| <!--/--> | relative_humidity &lt;int&gt; | dry_bulb_temp_f &lt;int&gt; | precip &lt;dbl&gt; | wind_speed &lt;int&gt; | station_pressure &lt;dbl&gt; |\n",
       "|---|---|---|---|---|---|\n",
       "| 1 | 46 | 83 | 0 | 13 | 29.99 |\n",
       "| 2 | 48 | 53 | 0 |  6 | 30.03 |\n",
       "| 3 | 89 | 36 | 0 | 13 | 30.12 |\n",
       "| 4 | 48 | 36 | 0 | 14 | 29.80 |\n",
       "| 5 | 61 | 39 | 0 | 11 | 30.50 |\n",
       "| 6 | 79 | 41 | 0 |  6 | 29.92 |\n",
       "\n"
      ],
      "text/plain": [
       "  relative_humidity dry_bulb_temp_f precip wind_speed station_pressure\n",
       "1 46                83              0      13         29.99           \n",
       "2 48                53              0       6         30.03           \n",
       "3 89                36              0      13         30.12           \n",
       "4 48                36              0      14         29.80           \n",
       "5 61                39              0      11         30.50           \n",
       "6 79                41              0       6         29.92           "
      ]
     },
     "metadata": {},
     "output_type": "display_data"
    }
   ],
   "source": [
    "weather_data <- precip_as_num %>% rename(relative_humidity = HOURLYRelativeHumidity, \n",
    "                                         dry_bulb_temp_f = HOURLYDRYBULBTEMPF, precip = \n",
    "                                         HOURLYPrecip, wind_speed = HOURLYWindSpeed, \n",
    "                                         station_pressure = HOURLYStationPressure)\n",
    "head(weather_data)"
   ]
  },
  {
   "cell_type": "markdown",
   "metadata": {
    "tags": []
   },
   "source": [
    "<a id=\"cell7\"></a>\n",
    "## 7. Exploratory Data Analysis\n",
    "Now that you have finished preprocessing the dataset, you can can start exploring the columns more.\n",
    "\n",
    "First, split the data into a training and testing set. Splitting a dataset is done randomly, so to have reproducible results set the seed = 1234. Also, use 80% of the data for training.\n"
   ]
  },
  {
   "cell_type": "code",
   "execution_count": 47,
   "metadata": {
    "tags": []
   },
   "outputs": [],
   "source": [
    "###both precip and pressure have NA's\n",
    "final_weather_data <- weather_data[!is.na(weather_data$precip) & !is.na(weather_data$station_pressure),]\n",
    "set.seed(1234)\n",
    "weather_split <- initial_split(final_weather_data, prop = 0.8)\n",
    "train_data <- training(weather_split)\n",
    "test_data <- testing(weather_split)"
   ]
  },
  {
   "cell_type": "markdown",
   "metadata": {
    "tags": []
   },
   "source": [
    "Next, looking at just the **training set**, plot histograms or box plots of the variables (`relative_humidity`, `dry_bulb_temp_f`, `precip`, `wind_speed`,  `station_pressure`) for an intial look of their distributions using `tidyverse`'s `ggplot`. Leave the testing set as is because it is good practice to not see the testing set until evaluating the final model.\n"
   ]
  },
  {
   "cell_type": "code",
   "execution_count": 48,
   "metadata": {
    "tags": []
   },
   "outputs": [
    {
     "data": {},
     "metadata": {},
     "output_type": "display_data"
    },
    {
     "data": {},
     "metadata": {},
     "output_type": "display_data"
    },
    {
     "data": {
      "image/png": "[encoded data removed]",
      "text/plain": [
       "plot without title"
      ]
     },
     "metadata": {},
     "output_type": "display_data",
     "source": "R display func"
    },
    {
     "data": {},
     "metadata": {},
     "output_type": "display_data"
    },
    {
     "data": {
      "image/png": "[encoded data removed]",
      "text/plain": [
       "plot without title"
      ]
     },
     "metadata": {},
     "output_type": "display_data",
     "source": "R display func"
    },
    {
     "data": {},
     "metadata": {},
     "output_type": "display_data"
    },
    {
     "data": {
      "image/png": "[encoded data removed]",
      "text/plain": [
       "plot without title"
      ]
     },
     "metadata": {},
     "output_type": "display_data",
     "source": "R display func"
    },
    {
     "data": {},
     "metadata": {},
     "output_type": "display_data"
    },
    {
     "data": {
      "image/png": "[encoded data removed]",
      "text/plain": [
       "plot without title"
      ]
     },
     "metadata": {},
     "output_type": "display_data",
     "source": "R display func"
    },
    {
     "data": {
      "image/png": "[encoded data removed]",
      "text/plain": [
       "plot without title"
      ]
     },
     "metadata": {},
     "output_type": "display_data",
     "source": "R display func"
    }
   ],
   "source": [
    "hist1 <- ggplot(data = train_data, mapping = aes(x = relative_humidity)) + geom_histogram(binwidth = 2,\n",
    "                    color = \"white\", fill = \"yellow\") + ggtitle(\"Relative Humidity\")\n",
    "hist1\n",
    "hist2 <- ggplot(data = train_data, mapping = aes(x = dry_bulb_temp_f)) + geom_histogram(binwidth = 2, \n",
    "                    color = \"white\", fill = \"red\") + ggtitle(\"Dry Bulb Temperature (Fahrenheit)\")\n",
    "hist2\n",
    "hist3 <- ggplot(data = train_data, mapping = aes(x = precip)) + geom_histogram(binwidth = 0.01, \n",
    "                    color = \"white\", fill = \"blue\") + ggtitle(\"Precipitation\")\n",
    "hist3\n",
    "hist4 <- ggplot(data = train_data, mapping = aes(x = wind_speed)) + geom_histogram(binwidth = 2, \n",
    "                    color = \"white\", fill = \"green\") + ggtitle(\"Wind Speed\")\n",
    "hist4\n",
    "hist5 <- ggplot(data = train_data, mapping = aes(x = station_pressure)) + geom_histogram(binwidth = 0.1, \n",
    "                    color = \"white\", fill = \"purple\") + ggtitle(\"Station Pressure\")\n",
    "hist5"
   ]
  },
  {
   "cell_type": "markdown",
   "metadata": {},
   "source": [
    "<a id=\"cell8\"></a>\n",
    "## 8. Linear Regression \n",
    "After exploring the dataset more, you are now ready to start creating models to predict the precipitation (`precip`).\n",
    "\n",
    "Create simple linear regression models where `precip` is the response variable and each of `relative_humidity`, `dry_bulb_temp_f`,`wind_speed` or `station_pressure` will be a predictor variable, e.g. `precip ~ relative_humidity`, `precip ~ dry_bulb_temp_f`, etc. for a total of four simple models. \n",
    "Additionally, visualize each simple model with a scatter plot.\n"
   ]
  },
  {
   "cell_type": "code",
   "execution_count": 49,
   "metadata": {
    "tags": []
   },
   "outputs": [
    {
     "data": {
      "text/plain": [
       "\n",
       "Call:\n",
       "lm(formula = precip ~ relative_humidity, data = train_data)\n",
       "\n",
       "Residuals:\n",
       "     Min       1Q   Median       3Q      Max \n",
       "-0.02093 -0.01174 -0.00506  0.00203  1.17074 \n",
       "\n",
       "Coefficients:\n",
       "                    Estimate Std. Error t value Pr(>|t|)    \n",
       "(Intercept)       -2.082e-02  2.586e-03  -8.052 1.13e-15 ***\n",
       "relative_humidity  4.175e-04  3.757e-05  11.113  < 2e-16 ***\n",
       "---\n",
       "Signif. codes:  0 ‘***’ 0.001 ‘**’ 0.01 ‘*’ 0.05 ‘.’ 0.1 ‘ ’ 1\n",
       "\n",
       "Residual standard error: 0.04258 on 3249 degrees of freedom\n",
       "Multiple R-squared:  0.03662,\tAdjusted R-squared:  0.03632 \n",
       "F-statistic: 123.5 on 1 and 3249 DF,  p-value: < 2.2e-16\n"
      ]
     },
     "metadata": {},
     "output_type": "display_data"
    },
    {
     "name": "stderr",
     "output_type": "stream",
     "text": [
      "`geom_smooth()` using formula 'y ~ x'\n"
     ]
    },
    {
     "data": {},
     "metadata": {},
     "output_type": "display_data"
    },
    {
     "data": {
      "image/png": "[encoded data removed]",
      "text/plain": [
       "plot without title"
      ]
     },
     "metadata": {},
     "output_type": "display_data",
     "source": "R display func"
    }
   ],
   "source": [
    "humidity_lm <- lm(precip ~ relative_humidity, data = train_data)\n",
    "summary(humidity_lm)\n",
    "ggplot(train_data, aes(x = relative_humidity, y = precip)) + geom_point() + stat_smooth(method = \"lm\", \n",
    "                                                                            na.rm = TRUE, color = \"red\")"
   ]
  },
  {
   "cell_type": "code",
   "execution_count": 50,
   "metadata": {
    "tags": []
   },
   "outputs": [
    {
     "data": {
      "text/plain": [
       "\n",
       "Call:\n",
       "lm(formula = precip ~ dry_bulb_temp_f, data = train_data)\n",
       "\n",
       "Residuals:\n",
       "     Min       1Q   Median       3Q      Max \n",
       "-0.00857 -0.00728 -0.00659 -0.00595  1.18276 \n",
       "\n",
       "Coefficients:\n",
       "                 Estimate Std. Error t value Pr(>|t|)  \n",
       "(Intercept)     4.313e-03  2.546e-03   1.694   0.0904 .\n",
       "dry_bulb_temp_f 4.300e-05  4.389e-05   0.980   0.3273  \n",
       "---\n",
       "Signif. codes:  0 ‘***’ 0.001 ‘**’ 0.01 ‘*’ 0.05 ‘.’ 0.1 ‘ ’ 1\n",
       "\n",
       "Residual standard error: 0.04338 on 3249 degrees of freedom\n",
       "Multiple R-squared:  0.0002953,\tAdjusted R-squared:  -1.235e-05 \n",
       "F-statistic: 0.9599 on 1 and 3249 DF,  p-value: 0.3273\n"
      ]
     },
     "metadata": {},
     "output_type": "display_data"
    },
    {
     "name": "stderr",
     "output_type": "stream",
     "text": [
      "`geom_smooth()` using formula 'y ~ x'\n"
     ]
    },
    {
     "data": {},
     "metadata": {},
     "output_type": "display_data"
    },
    {
     "data": {
      "image/png": "[encoded data removed]",
      "text/plain": [
       "plot without title"
      ]
     },
     "metadata": {},
     "output_type": "display_data",
     "source": "R display func"
    }
   ],
   "source": [
    "temp_lm <- lm(precip ~ dry_bulb_temp_f, data = train_data)\n",
    "summary(temp_lm)\n",
    "ggplot(train_data, aes(x = dry_bulb_temp_f, y = precip)) + geom_point() + stat_smooth(method = \"lm\",\n",
    "                                                                          na.rm = TRUE, color = \"red\")"
   ]
  },
  {
   "cell_type": "code",
   "execution_count": 51,
   "metadata": {
    "tags": []
   },
   "outputs": [
    {
     "data": {
      "text/plain": [
       "\n",
       "Call:\n",
       "lm(formula = precip ~ wind_speed, data = train_data)\n",
       "\n",
       "Residuals:\n",
       "     Min       1Q   Median       3Q      Max \n",
       "-0.02840 -0.00810 -0.00543 -0.00383  1.17762 \n",
       "\n",
       "Coefficients:\n",
       "             Estimate Std. Error t value Pr(>|t|)    \n",
       "(Intercept) 0.0006257  0.0015757   0.397    0.691    \n",
       "wind_speed  0.0005342  0.0001216   4.394 1.15e-05 ***\n",
       "---\n",
       "Signif. codes:  0 ‘***’ 0.001 ‘**’ 0.01 ‘*’ 0.05 ‘.’ 0.1 ‘ ’ 1\n",
       "\n",
       "Residual standard error: 0.04326 on 3249 degrees of freedom\n",
       "Multiple R-squared:  0.005906,\tAdjusted R-squared:  0.0056 \n",
       "F-statistic:  19.3 on 1 and 3249 DF,  p-value: 1.151e-05\n"
      ]
     },
     "metadata": {},
     "output_type": "display_data"
    },
    {
     "name": "stderr",
     "output_type": "stream",
     "text": [
      "`geom_smooth()` using formula 'y ~ x'\n"
     ]
    },
    {
     "data": {},
     "metadata": {},
     "output_type": "display_data"
    },
    {
     "data": {
      "image/png": "[encoded data removed]",
      "text/plain": [
       "plot without title"
      ]
     },
     "metadata": {},
     "output_type": "display_data",
     "source": "R display func"
    }
   ],
   "source": [
    "wind_speed_lm <- lm(precip ~ wind_speed, data = train_data)\n",
    "summary(wind_speed_lm)\n",
    "ggplot(train_data, aes(x = wind_speed, y = precip)) + geom_point() + stat_smooth(method = \"lm\", \n",
    "                                                                     na.rm = TRUE, color = \"red\")"
   ]
  },
  {
   "cell_type": "code",
   "execution_count": 52,
   "metadata": {
    "tags": []
   },
   "outputs": [
    {
     "data": {
      "text/plain": [
       "\n",
       "Call:\n",
       "lm(formula = precip ~ station_pressure, data = train_data)\n",
       "\n",
       "Residuals:\n",
       "     Min       1Q   Median       3Q      Max \n",
       "-0.03706 -0.00935 -0.00586 -0.00156  1.17622 \n",
       "\n",
       "Coefficients:\n",
       "                  Estimate Std. Error t value Pr(>|t|)    \n",
       "(Intercept)       0.705175   0.093639   7.531 6.50e-14 ***\n",
       "station_pressure -0.023287   0.003122  -7.460 1.11e-13 ***\n",
       "---\n",
       "Signif. codes:  0 ‘***’ 0.001 ‘**’ 0.01 ‘*’ 0.05 ‘.’ 0.1 ‘ ’ 1\n",
       "\n",
       "Residual standard error: 0.04302 on 3249 degrees of freedom\n",
       "Multiple R-squared:  0.01684,\tAdjusted R-squared:  0.01654 \n",
       "F-statistic: 55.64 on 1 and 3249 DF,  p-value: 1.108e-13\n"
      ]
     },
     "metadata": {},
     "output_type": "display_data"
    },
    {
     "name": "stderr",
     "output_type": "stream",
     "text": [
      "`geom_smooth()` using formula 'y ~ x'\n"
     ]
    },
    {
     "data": {},
     "metadata": {},
     "output_type": "display_data"
    },
    {
     "data": {
      "image/png": "[encoded data removed]",
      "text/plain": [
       "plot without title"
      ]
     },
     "metadata": {},
     "output_type": "display_data",
     "source": "R display func"
    }
   ],
   "source": [
    "station_pressure_lm <- lm(precip ~ station_pressure, data = train_data)\n",
    "summary(station_pressure_lm)\n",
    "ggplot(train_data, aes(x = station_pressure, y = precip)) + geom_point() + stat_smooth(method = \"lm\", \n",
    "                                                                           na.rm = TRUE, color = \"red\")"
   ]
  },
  {
   "cell_type": "markdown",
   "metadata": {},
   "source": [
    "<a id=\"cell9\"></a>\n",
    "## 9. Improve the Model\n",
    "Now, try improving the simple models you created in the previous section. \n",
    "\n",
    "Create at least two more models, each model should use at least one of the different techniques:\n",
    "1. Add more features/predictors\n",
    "2. Add regularization (L1, L2 or a mix)\n",
    "3. Add a polynomial component\n",
    "\n",
    "Also, for each of the models you create, check the model performance using the **training set** and a metric like MSE, RMSE, or R-squared.\n",
    "\n",
    "Consider using `tidymodels` if you choose to add regularization and tune lambda.\n"
   ]
  },
  {
   "cell_type": "code",
   "execution_count": 53,
   "metadata": {
    "tags": []
   },
   "outputs": [
    {
     "data": {
      "text/plain": [
       "parsnip model object\n",
       "\n",
       "Fit time:  4ms \n",
       "\n",
       "Call:\n",
       "stats::lm(formula = formula, data = data)\n",
       "\n",
       "Coefficients:\n",
       "      (Intercept)   station_pressure    dry_bulb_temp_f  relative_humidity  \n",
       "        1.991e-01         -7.724e-03          8.981e-06          4.510e-04  \n",
       "       wind_speed  \n",
       "        7.958e-04  \n"
      ]
     },
     "metadata": {},
     "output_type": "display_data"
    },
    {
     "data": {
      "text/html": [
       "<table>\n",
       "<caption>A tibble: 6 × 2</caption>\n",
       "<thead>\n",
       "\t<tr><th scope=col>.pred</th><th scope=col>truth</th></tr>\n",
       "\t<tr><th scope=col>&lt;dbl&gt;</th><th scope=col>&lt;dbl&gt;</th></tr>\n",
       "</thead>\n",
       "<tbody>\n",
       "\t<tr><td>-0.0006959379</td><td>0.00</td></tr>\n",
       "\t<tr><td> 0.0020473728</td><td>0.00</td></tr>\n",
       "\t<tr><td> 0.0001433306</td><td>0.00</td></tr>\n",
       "\t<tr><td> 0.0087809559</td><td>0.00</td></tr>\n",
       "\t<tr><td>-0.0125275395</td><td>0.00</td></tr>\n",
       "\t<tr><td> 0.0169881354</td><td>0.06</td></tr>\n",
       "</tbody>\n",
       "</table>\n"
      ],
      "text/latex": [
       "A tibble: 6 × 2\n",
       "\\begin{tabular}{ll}\n",
       " .pred & truth\\\\\n",
       " <dbl> & <dbl>\\\\\n",
       "\\hline\n",
       "\t -0.0006959379 & 0.00\\\\\n",
       "\t  0.0020473728 & 0.00\\\\\n",
       "\t  0.0001433306 & 0.00\\\\\n",
       "\t  0.0087809559 & 0.00\\\\\n",
       "\t -0.0125275395 & 0.00\\\\\n",
       "\t  0.0169881354 & 0.06\\\\\n",
       "\\end{tabular}\n"
      ],
      "text/markdown": [
       "\n",
       "A tibble: 6 × 2\n",
       "\n",
       "| .pred &lt;dbl&gt; | truth &lt;dbl&gt; |\n",
       "|---|---|\n",
       "| -0.0006959379 | 0.00 |\n",
       "|  0.0020473728 | 0.00 |\n",
       "|  0.0001433306 | 0.00 |\n",
       "|  0.0087809559 | 0.00 |\n",
       "| -0.0125275395 | 0.00 |\n",
       "|  0.0169881354 | 0.06 |\n",
       "\n"
      ],
      "text/plain": [
       "  .pred         truth\n",
       "1 -0.0006959379 0.00 \n",
       "2  0.0020473728 0.00 \n",
       "3  0.0001433306 0.00 \n",
       "4  0.0087809559 0.00 \n",
       "5 -0.0125275395 0.00 \n",
       "6  0.0169881354 0.06 "
      ]
     },
     "metadata": {},
     "output_type": "display_data"
    },
    {
     "data": {
      "text/html": [
       "4.07403976329297e-17"
      ],
      "text/latex": [
       "4.07403976329297e-17"
      ],
      "text/markdown": [
       "4.07403976329297e-17"
      ],
      "text/plain": [
       "[1] 4.07404e-17"
      ]
     },
     "metadata": {},
     "output_type": "display_data"
    },
    {
     "data": {
      "text/html": [
       "<table>\n",
       "<caption>A tibble: 1 × 3</caption>\n",
       "<thead>\n",
       "\t<tr><th scope=col>.metric</th><th scope=col>.estimator</th><th scope=col>.estimate</th></tr>\n",
       "\t<tr><th scope=col>&lt;chr&gt;</th><th scope=col>&lt;chr&gt;</th><th scope=col>&lt;dbl&gt;</th></tr>\n",
       "</thead>\n",
       "<tbody>\n",
       "\t<tr><td>rsq</td><td>standard</td><td>0.05400152</td></tr>\n",
       "</tbody>\n",
       "</table>\n"
      ],
      "text/latex": [
       "A tibble: 1 × 3\n",
       "\\begin{tabular}{lll}\n",
       " .metric & .estimator & .estimate\\\\\n",
       " <chr> & <chr> & <dbl>\\\\\n",
       "\\hline\n",
       "\t rsq & standard & 0.05400152\\\\\n",
       "\\end{tabular}\n"
      ],
      "text/markdown": [
       "\n",
       "A tibble: 1 × 3\n",
       "\n",
       "| .metric &lt;chr&gt; | .estimator &lt;chr&gt; | .estimate &lt;dbl&gt; |\n",
       "|---|---|---|\n",
       "| rsq | standard | 0.05400152 |\n",
       "\n"
      ],
      "text/plain": [
       "  .metric .estimator .estimate \n",
       "1 rsq     standard   0.05400152"
      ]
     },
     "metadata": {},
     "output_type": "display_data"
    },
    {
     "data": {
      "text/plain": [
       "parsnip model object\n",
       "\n",
       "Fit time:  6ms \n",
       "\n",
       "Call:\n",
       "stats::lm(formula = formula, data = data)\n",
       "\n",
       "Coefficients:\n",
       "               (Intercept)  poly(station_pressure, 2)1  \n",
       "                  0.006693                   -0.320887  \n",
       "poly(station_pressure, 2)2  \n",
       "                  0.103717  \n"
      ]
     },
     "metadata": {},
     "output_type": "display_data"
    },
    {
     "data": {
      "text/html": [
       "<table>\n",
       "<caption>A tibble: 6 × 2</caption>\n",
       "<thead>\n",
       "\t<tr><th scope=col>.pred</th><th scope=col>truth</th></tr>\n",
       "\t<tr><th scope=col>&lt;dbl&gt;</th><th scope=col>&lt;dbl&gt;</th></tr>\n",
       "</thead>\n",
       "<tbody>\n",
       "\t<tr><td> 0.0057083938</td><td>0.00</td></tr>\n",
       "\t<tr><td> 0.0107214407</td><td>0.00</td></tr>\n",
       "\t<tr><td>-0.0011398611</td><td>0.00</td></tr>\n",
       "\t<tr><td> 0.0073998277</td><td>0.00</td></tr>\n",
       "\t<tr><td>-0.0005559471</td><td>0.00</td></tr>\n",
       "\t<tr><td> 0.0048233011</td><td>0.06</td></tr>\n",
       "</tbody>\n",
       "</table>\n"
      ],
      "text/latex": [
       "A tibble: 6 × 2\n",
       "\\begin{tabular}{ll}\n",
       " .pred & truth\\\\\n",
       " <dbl> & <dbl>\\\\\n",
       "\\hline\n",
       "\t  0.0057083938 & 0.00\\\\\n",
       "\t  0.0107214407 & 0.00\\\\\n",
       "\t -0.0011398611 & 0.00\\\\\n",
       "\t  0.0073998277 & 0.00\\\\\n",
       "\t -0.0005559471 & 0.00\\\\\n",
       "\t  0.0048233011 & 0.06\\\\\n",
       "\\end{tabular}\n"
      ],
      "text/markdown": [
       "\n",
       "A tibble: 6 × 2\n",
       "\n",
       "| .pred &lt;dbl&gt; | truth &lt;dbl&gt; |\n",
       "|---|---|\n",
       "|  0.0057083938 | 0.00 |\n",
       "|  0.0107214407 | 0.00 |\n",
       "| -0.0011398611 | 0.00 |\n",
       "|  0.0073998277 | 0.00 |\n",
       "| -0.0005559471 | 0.00 |\n",
       "|  0.0048233011 | 0.06 |\n",
       "\n"
      ],
      "text/plain": [
       "  .pred         truth\n",
       "1  0.0057083938 0.00 \n",
       "2  0.0107214407 0.00 \n",
       "3 -0.0011398611 0.00 \n",
       "4  0.0073998277 0.00 \n",
       "5 -0.0005559471 0.00 \n",
       "6  0.0048233011 0.06 "
      ]
     },
     "metadata": {},
     "output_type": "display_data"
    },
    {
     "data": {
      "text/html": [
       "1.57515137936522e-17"
      ],
      "text/latex": [
       "1.57515137936522e-17"
      ],
      "text/markdown": [
       "1.57515137936522e-17"
      ],
      "text/plain": [
       "[1] 1.575151e-17"
      ]
     },
     "metadata": {},
     "output_type": "display_data"
    },
    {
     "data": {
      "text/html": [
       "<table>\n",
       "<caption>A tibble: 1 × 3</caption>\n",
       "<thead>\n",
       "\t<tr><th scope=col>.metric</th><th scope=col>.estimator</th><th scope=col>.estimate</th></tr>\n",
       "\t<tr><th scope=col>&lt;chr&gt;</th><th scope=col>&lt;chr&gt;</th><th scope=col>&lt;dbl&gt;</th></tr>\n",
       "</thead>\n",
       "<tbody>\n",
       "\t<tr><td>rsq</td><td>standard</td><td>0.01859734</td></tr>\n",
       "</tbody>\n",
       "</table>\n"
      ],
      "text/latex": [
       "A tibble: 1 × 3\n",
       "\\begin{tabular}{lll}\n",
       " .metric & .estimator & .estimate\\\\\n",
       " <chr> & <chr> & <dbl>\\\\\n",
       "\\hline\n",
       "\t rsq & standard & 0.01859734\\\\\n",
       "\\end{tabular}\n"
      ],
      "text/markdown": [
       "\n",
       "A tibble: 1 × 3\n",
       "\n",
       "| .metric &lt;chr&gt; | .estimator &lt;chr&gt; | .estimate &lt;dbl&gt; |\n",
       "|---|---|---|\n",
       "| rsq | standard | 0.01859734 |\n",
       "\n"
      ],
      "text/plain": [
       "  .metric .estimator .estimate \n",
       "1 rsq     standard   0.01859734"
      ]
     },
     "metadata": {},
     "output_type": "display_data"
    },
    {
     "name": "stderr",
     "output_type": "stream",
     "text": [
      "! Fold01: internal: A correlation computation is required, but `estimate` is const...\n",
      "! Fold02: internal: A correlation computation is required, but `estimate` is const...\n",
      "! Fold03: internal: A correlation computation is required, but `estimate` is const...\n",
      "! Fold04: internal: A correlation computation is required, but `estimate` is const...\n",
      "! Fold05: internal: A correlation computation is required, but `estimate` is const...\n",
      "! Fold06: internal: A correlation computation is required, but `estimate` is const...\n",
      "! Fold07: internal: A correlation computation is required, but `estimate` is const...\n",
      "! Fold08: internal: A correlation computation is required, but `estimate` is const...\n",
      "! Fold09: internal: A correlation computation is required, but `estimate` is const...\n",
      "! Fold10: internal: A correlation computation is required, but `estimate` is const...\n"
     ]
    },
    {
     "data": {
      "text/html": [
       "<table>\n",
       "<caption>A tibble: 5 × 6</caption>\n",
       "<thead>\n",
       "\t<tr><th scope=col>penalty</th><th scope=col>.metric</th><th scope=col>.estimator</th><th scope=col>mean</th><th scope=col>n</th><th scope=col>std_err</th></tr>\n",
       "\t<tr><th scope=col>&lt;dbl&gt;</th><th scope=col>&lt;chr&gt;</th><th scope=col>&lt;chr&gt;</th><th scope=col>&lt;dbl&gt;</th><th scope=col>&lt;int&gt;</th><th scope=col>&lt;dbl&gt;</th></tr>\n",
       "</thead>\n",
       "<tbody>\n",
       "\t<tr><td>0.001000000</td><td>rmse</td><td>standard</td><td>0.03927137</td><td>10</td><td>0.005206542</td></tr>\n",
       "\t<tr><td>0.001167742</td><td>rmse</td><td>standard</td><td>0.03927638</td><td>10</td><td>0.005213082</td></tr>\n",
       "\t<tr><td>0.001363622</td><td>rmse</td><td>standard</td><td>0.03928507</td><td>10</td><td>0.005220373</td></tr>\n",
       "\t<tr><td>0.001592358</td><td>rmse</td><td>standard</td><td>0.03929915</td><td>10</td><td>0.005228442</td></tr>\n",
       "\t<tr><td>0.001859464</td><td>rmse</td><td>standard</td><td>0.03932092</td><td>10</td><td>0.005237239</td></tr>\n",
       "</tbody>\n",
       "</table>\n"
      ],
      "text/latex": [
       "A tibble: 5 × 6\n",
       "\\begin{tabular}{llllll}\n",
       " penalty & .metric & .estimator & mean & n & std\\_err\\\\\n",
       " <dbl> & <chr> & <chr> & <dbl> & <int> & <dbl>\\\\\n",
       "\\hline\n",
       "\t 0.001000000 & rmse & standard & 0.03927137 & 10 & 0.005206542\\\\\n",
       "\t 0.001167742 & rmse & standard & 0.03927638 & 10 & 0.005213082\\\\\n",
       "\t 0.001363622 & rmse & standard & 0.03928507 & 10 & 0.005220373\\\\\n",
       "\t 0.001592358 & rmse & standard & 0.03929915 & 10 & 0.005228442\\\\\n",
       "\t 0.001859464 & rmse & standard & 0.03932092 & 10 & 0.005237239\\\\\n",
       "\\end{tabular}\n"
      ],
      "text/markdown": [
       "\n",
       "A tibble: 5 × 6\n",
       "\n",
       "| penalty &lt;dbl&gt; | .metric &lt;chr&gt; | .estimator &lt;chr&gt; | mean &lt;dbl&gt; | n &lt;int&gt; | std_err &lt;dbl&gt; |\n",
       "|---|---|---|---|---|---|\n",
       "| 0.001000000 | rmse | standard | 0.03927137 | 10 | 0.005206542 |\n",
       "| 0.001167742 | rmse | standard | 0.03927638 | 10 | 0.005213082 |\n",
       "| 0.001363622 | rmse | standard | 0.03928507 | 10 | 0.005220373 |\n",
       "| 0.001592358 | rmse | standard | 0.03929915 | 10 | 0.005228442 |\n",
       "| 0.001859464 | rmse | standard | 0.03932092 | 10 | 0.005237239 |\n",
       "\n"
      ],
      "text/plain": [
       "  penalty     .metric .estimator mean       n  std_err    \n",
       "1 0.001000000 rmse    standard   0.03927137 10 0.005206542\n",
       "2 0.001167742 rmse    standard   0.03927638 10 0.005213082\n",
       "3 0.001363622 rmse    standard   0.03928507 10 0.005220373\n",
       "4 0.001592358 rmse    standard   0.03929915 10 0.005228442\n",
       "5 0.001859464 rmse    standard   0.03932092 10 0.005237239"
      ]
     },
     "metadata": {},
     "output_type": "display_data"
    },
    {
     "data": {
      "text/html": [
       "<table>\n",
       "<caption>A tibble: 1 × 1</caption>\n",
       "<thead>\n",
       "\t<tr><th scope=col>mean</th></tr>\n",
       "\t<tr><th scope=col>&lt;dbl&gt;</th></tr>\n",
       "</thead>\n",
       "<tbody>\n",
       "\t<tr><td>0.03927137</td></tr>\n",
       "</tbody>\n",
       "</table>\n"
      ],
      "text/latex": [
       "A tibble: 1 × 1\n",
       "\\begin{tabular}{l}\n",
       " mean\\\\\n",
       " <dbl>\\\\\n",
       "\\hline\n",
       "\t 0.03927137\\\\\n",
       "\\end{tabular}\n"
      ],
      "text/markdown": [
       "\n",
       "A tibble: 1 × 1\n",
       "\n",
       "| mean &lt;dbl&gt; |\n",
       "|---|\n",
       "| 0.03927137 |\n",
       "\n"
      ],
      "text/plain": [
       "  mean      \n",
       "1 0.03927137"
      ]
     },
     "metadata": {},
     "output_type": "display_data"
    },
    {
     "data": {
      "text/html": [
       "<table>\n",
       "<caption>A tibble: 5 × 6</caption>\n",
       "<thead>\n",
       "\t<tr><th scope=col>penalty</th><th scope=col>.metric</th><th scope=col>.estimator</th><th scope=col>mean</th><th scope=col>n</th><th scope=col>std_err</th></tr>\n",
       "\t<tr><th scope=col>&lt;dbl&gt;</th><th scope=col>&lt;chr&gt;</th><th scope=col>&lt;chr&gt;</th><th scope=col>&lt;dbl&gt;</th><th scope=col>&lt;int&gt;</th><th scope=col>&lt;dbl&gt;</th></tr>\n",
       "</thead>\n",
       "<tbody>\n",
       "\t<tr><td>0.001000000</td><td>rsq</td><td>standard</td><td>0.06721857</td><td>10</td><td>0.008412869</td></tr>\n",
       "\t<tr><td>0.001167742</td><td>rsq</td><td>standard</td><td>0.06710712</td><td>10</td><td>0.008394272</td></tr>\n",
       "\t<tr><td>0.001363622</td><td>rsq</td><td>standard</td><td>0.06693905</td><td>10</td><td>0.008369013</td></tr>\n",
       "\t<tr><td>0.001592358</td><td>rsq</td><td>standard</td><td>0.06668059</td><td>10</td><td>0.008334287</td></tr>\n",
       "\t<tr><td>0.001859464</td><td>rsq</td><td>standard</td><td>0.06627162</td><td>10</td><td>0.008284821</td></tr>\n",
       "</tbody>\n",
       "</table>\n"
      ],
      "text/latex": [
       "A tibble: 5 × 6\n",
       "\\begin{tabular}{llllll}\n",
       " penalty & .metric & .estimator & mean & n & std\\_err\\\\\n",
       " <dbl> & <chr> & <chr> & <dbl> & <int> & <dbl>\\\\\n",
       "\\hline\n",
       "\t 0.001000000 & rsq & standard & 0.06721857 & 10 & 0.008412869\\\\\n",
       "\t 0.001167742 & rsq & standard & 0.06710712 & 10 & 0.008394272\\\\\n",
       "\t 0.001363622 & rsq & standard & 0.06693905 & 10 & 0.008369013\\\\\n",
       "\t 0.001592358 & rsq & standard & 0.06668059 & 10 & 0.008334287\\\\\n",
       "\t 0.001859464 & rsq & standard & 0.06627162 & 10 & 0.008284821\\\\\n",
       "\\end{tabular}\n"
      ],
      "text/markdown": [
       "\n",
       "A tibble: 5 × 6\n",
       "\n",
       "| penalty &lt;dbl&gt; | .metric &lt;chr&gt; | .estimator &lt;chr&gt; | mean &lt;dbl&gt; | n &lt;int&gt; | std_err &lt;dbl&gt; |\n",
       "|---|---|---|---|---|---|\n",
       "| 0.001000000 | rsq | standard | 0.06721857 | 10 | 0.008412869 |\n",
       "| 0.001167742 | rsq | standard | 0.06710712 | 10 | 0.008394272 |\n",
       "| 0.001363622 | rsq | standard | 0.06693905 | 10 | 0.008369013 |\n",
       "| 0.001592358 | rsq | standard | 0.06668059 | 10 | 0.008334287 |\n",
       "| 0.001859464 | rsq | standard | 0.06627162 | 10 | 0.008284821 |\n",
       "\n"
      ],
      "text/plain": [
       "  penalty     .metric .estimator mean       n  std_err    \n",
       "1 0.001000000 rsq     standard   0.06721857 10 0.008412869\n",
       "2 0.001167742 rsq     standard   0.06710712 10 0.008394272\n",
       "3 0.001363622 rsq     standard   0.06693905 10 0.008369013\n",
       "4 0.001592358 rsq     standard   0.06668059 10 0.008334287\n",
       "5 0.001859464 rsq     standard   0.06627162 10 0.008284821"
      ]
     },
     "metadata": {},
     "output_type": "display_data"
    },
    {
     "data": {
      "text/html": [
       "<table>\n",
       "<caption>A tibble: 1 × 1</caption>\n",
       "<thead>\n",
       "\t<tr><th scope=col>mean</th></tr>\n",
       "\t<tr><th scope=col>&lt;dbl&gt;</th></tr>\n",
       "</thead>\n",
       "<tbody>\n",
       "\t<tr><td>0.06721857</td></tr>\n",
       "</tbody>\n",
       "</table>\n"
      ],
      "text/latex": [
       "A tibble: 1 × 1\n",
       "\\begin{tabular}{l}\n",
       " mean\\\\\n",
       " <dbl>\\\\\n",
       "\\hline\n",
       "\t 0.06721857\\\\\n",
       "\\end{tabular}\n"
      ],
      "text/markdown": [
       "\n",
       "A tibble: 1 × 1\n",
       "\n",
       "| mean &lt;dbl&gt; |\n",
       "|---|\n",
       "| 0.06721857 |\n",
       "\n"
      ],
      "text/plain": [
       "  mean      \n",
       "1 0.06721857"
      ]
     },
     "metadata": {},
     "output_type": "display_data"
    }
   ],
   "source": [
    "### Adding more features/predictors using pressure, temp, humidity, and wind speed as predictor variables\n",
    "lm_spec <- linear_reg() %>% set_engine(engine = \"lm\")\n",
    "mlr_train_fit <- lm_spec %>% fit(precip ~ station_pressure + dry_bulb_temp_f + \n",
    "                                 relative_humidity + wind_speed, data = train_data)\n",
    "mlr_train_fit\n",
    "mlr_train_results <- mlr_train_fit %>% predict(new_data = train_data) %>% mutate(truth = train_data$precip)\n",
    "head(mlr_train_results)\n",
    "rmse_mlr_train <- sqrt(mean(mlr_train_results$truth - mlr_train_results$.pred)^2)\n",
    "rmse_mlr_train\n",
    "rsq_mlr_train <- rsq(mlr_train_results, truth = truth, estimate = .pred)\n",
    "rsq_mlr_train\n",
    "\n",
    "### Adding 2nd degree polynomial component to pressure\n",
    "poly_train_fit <- lm_spec %>% fit(precip ~ poly(station_pressure, 2), data = train_data)\n",
    "poly_train_fit\n",
    "poly_train_results <- poly_train_fit %>% predict(new_data = train_data) %>% mutate(truth = train_data$precip)\n",
    "head(poly_train_results)\n",
    "rmse_poly_train <- sqrt(mean(poly_train_results$truth - poly_train_results$.pred)^2)\n",
    "rmse_poly_train\n",
    "rsq_poly_train <- rsq(poly_train_results, truth = truth, estimate = .pred)\n",
    "rsq_poly_train\n",
    "\n",
    "###Grid search to find best lambda for lasso regularization\n",
    "weather_recipe <- recipe(precip ~ ., data = train_data)\n",
    "tune_spec <- linear_reg(penalty = tune(), mixture = 1) %>% set_engine(\"glmnet\")\n",
    "lasso_wf <- workflow() %>% add_recipe(weather_recipe)\n",
    "weather_cvfolds <- vfold_cv(train_data)\n",
    "lambda_grid <- grid_regular(levels = 50, penalty(range(-3, 0.3)))\n",
    "lasso_grid <- tune_grid(lasso_wf %>% add_model(tune_spec), resamples = weather_cvfolds, grid = lambda_grid)\n",
    "results_grid_rmse <- show_best(lasso_grid, metric = \"rmse\")\n",
    "head(results_grid_rmse)\n",
    "rmse_lasso_train <- results_grid_rmse[1,4]\n",
    "rmse_lasso_train\n",
    "results_grid_rsq <- show_best(lasso_grid, metric = \"rsq\")\n",
    "head(results_grid_rsq)\n",
    "rsq_lasso_train <- results_grid_rsq[1,4]\n",
    "rsq_lasso_train"
   ]
  },
  {
   "cell_type": "markdown",
   "metadata": {},
   "source": [
    "<a id=\"cell10\"></a>\n",
    "## 10. Find Best Model\n",
    "Compare the regression metrics of each model from section 9 to find the best model overall. To do this, \n",
    "\n",
    "1. Evaluate the models on the **testing set** using at least one metric (like MSE, RMSE or R-squared).\n",
    "2. After calculating the metrics on the testing set for each model, print them out in as a table to easily compare. You can use something like:\n",
    "```\n",
    "model_names <- c(\"model_1\", \"model_2\", \"model_3\")\n",
    "train_error <- c(\"model_1_value\", \"model_2_value\", \"model_3_value\")\n",
    "test_error <- c(\"model_1_value\", \"model_2_value\", \"model_3_value\")\n",
    "comparison_df <- data.frame(model_names, train_error, test_error)\n",
    "```\n",
    "3. Finally, from the comparison table you create, conclude which model performed the best.\n"
   ]
  },
  {
   "cell_type": "code",
   "execution_count": 54,
   "metadata": {
    "tags": []
   },
   "outputs": [
    {
     "data": {
      "text/html": [
       "<table>\n",
       "<caption>A data.frame: 6 × 3</caption>\n",
       "<thead>\n",
       "\t<tr><th scope=col>model_names</th><th scope=col>train_error</th><th scope=col>test_error</th></tr>\n",
       "\t<tr><th scope=col>&lt;fct&gt;</th><th scope=col>&lt;dbl&gt;</th><th scope=col>&lt;dbl&gt;</th></tr>\n",
       "</thead>\n",
       "<tbody>\n",
       "\t<tr><td>MLR_RMSE  </td><td>4.074040e-17</td><td>0.0003629834</td></tr>\n",
       "\t<tr><td>MLR_RSQ   </td><td>5.400152e-02</td><td>0.0701271070</td></tr>\n",
       "\t<tr><td>Poly_RMSE </td><td>1.575151e-17</td><td>0.0004431905</td></tr>\n",
       "\t<tr><td>Poly_RSQ  </td><td>1.859734e-02</td><td>0.0335556792</td></tr>\n",
       "\t<tr><td>Lasso_RMSE</td><td>3.927137e-02</td><td>0.0004680779</td></tr>\n",
       "\t<tr><td>Lasso_RSQ </td><td>6.721857e-02</td><td>0.0703445159</td></tr>\n",
       "</tbody>\n",
       "</table>\n"
      ],
      "text/latex": [
       "A data.frame: 6 × 3\n",
       "\\begin{tabular}{lll}\n",
       " model\\_names & train\\_error & test\\_error\\\\\n",
       " <fct> & <dbl> & <dbl>\\\\\n",
       "\\hline\n",
       "\t MLR\\_RMSE   & 4.074040e-17 & 0.0003629834\\\\\n",
       "\t MLR\\_RSQ    & 5.400152e-02 & 0.0701271070\\\\\n",
       "\t Poly\\_RMSE  & 1.575151e-17 & 0.0004431905\\\\\n",
       "\t Poly\\_RSQ   & 1.859734e-02 & 0.0335556792\\\\\n",
       "\t Lasso\\_RMSE & 3.927137e-02 & 0.0004680779\\\\\n",
       "\t Lasso\\_RSQ  & 6.721857e-02 & 0.0703445159\\\\\n",
       "\\end{tabular}\n"
      ],
      "text/markdown": [
       "\n",
       "A data.frame: 6 × 3\n",
       "\n",
       "| model_names &lt;fct&gt; | train_error &lt;dbl&gt; | test_error &lt;dbl&gt; |\n",
       "|---|---|---|\n",
       "| MLR_RMSE   | 4.074040e-17 | 0.0003629834 |\n",
       "| MLR_RSQ    | 5.400152e-02 | 0.0701271070 |\n",
       "| Poly_RMSE  | 1.575151e-17 | 0.0004431905 |\n",
       "| Poly_RSQ   | 1.859734e-02 | 0.0335556792 |\n",
       "| Lasso_RMSE | 3.927137e-02 | 0.0004680779 |\n",
       "| Lasso_RSQ  | 6.721857e-02 | 0.0703445159 |\n",
       "\n"
      ],
      "text/plain": [
       "  model_names train_error  test_error  \n",
       "1 MLR_RMSE    4.074040e-17 0.0003629834\n",
       "2 MLR_RSQ     5.400152e-02 0.0701271070\n",
       "3 Poly_RMSE   1.575151e-17 0.0004431905\n",
       "4 Poly_RSQ    1.859734e-02 0.0335556792\n",
       "5 Lasso_RMSE  3.927137e-02 0.0004680779\n",
       "6 Lasso_RSQ   6.721857e-02 0.0703445159"
      ]
     },
     "metadata": {},
     "output_type": "display_data"
    },
    {
     "name": "stdout",
     "output_type": "stream",
     "text": [
      "The RSQ value was highest in the lasso regularization test, though it was too low to indicate \n",
      "correlation. All models had low rmse values.  Overall, the lasso model is the most accurate, but \n",
      "none of them are reliable predictors of new data.Many of the precipitation \n",
      "data points were equal to zero, which heavily influenced the models. Results could be improved \n",
      "by narrowing down the goal of the project. For example, if the goal was to see if the amount of \n",
      "precipitation during rainfall events increases with the provided variables, then the \n",
      "rows where precipitation = 0 could be removed."
     ]
    }
   ],
   "source": [
    "### Mlr model\n",
    "mlr_test_results <- mlr_train_fit %>% predict(new_data = test_data) %>% mutate(truth = test_data$precip)\n",
    "rmse_mlr_test <- sqrt(mean(mlr_test_results$truth - mlr_test_results$.pred)^2)\n",
    "rsq_mlr_test <- rsq(mlr_test_results, truth = truth, estimate = .pred)\n",
    "\n",
    "###Poly model\n",
    "poly_test_results <- poly_train_fit %>% predict(new_data = test_data) %>% mutate(truth = test_data$precip)\n",
    "rmse_poly_test <- sqrt(mean(poly_test_results$truth - poly_test_results$.pred)^2)\n",
    "rsq_poly_test <- rsq(poly_test_results, truth = truth, estimate = .pred)\n",
    "\n",
    "###Lasso regularization model. From previous task, best penalty = 0.001\n",
    "lasso_spec <- linear_reg(penalty = 0.001, mixture = 1) %>% set_engine(\"glmnet\")\n",
    "lasso_wf2 <- workflow() %>% add_recipe(weather_recipe)\n",
    "lasso_fit <- lasso_wf %>% add_model(lasso_spec) %>% fit(data = train_data)\n",
    "lasso_test_results <- lasso_fit %>% predict(new_data = test_data) %>% mutate(truth = test_data$precip)\n",
    "rmse_lasso_test <- sqrt(mean(lasso_test_results$truth - lasso_test_results$.pred)^2)\n",
    "rsq_lasso_test <- rsq(lasso_test_results, truth = truth, estimate = .pred)\n",
    "\n",
    "### Table\n",
    "model_names <- c(\"MLR_RMSE\", \"MLR_RSQ\", \"Poly_RMSE\", \"Poly_RSQ\", \"Lasso_RMSE\", \"Lasso_RSQ\")\n",
    "train_error <- c(rmse_mlr_train, rsq_mlr_train$.estimate, rmse_poly_train, rsq_poly_train$.estimate, \n",
    "                 rmse_lasso_train$mean, rsq_lasso_train$mean)\n",
    "test_error <- c(rmse_mlr_test, rsq_mlr_test$.estimate, rmse_poly_test, rsq_poly_test$.estimate, \n",
    "                rmse_lasso_test, rsq_lasso_test$.estimate)\n",
    "comparison_df <- data.frame(model_names, train_error, test_error)\n",
    "comparison_df\n",
    "\n",
    "cat(\"The RSQ value was highest in the lasso regularization test, though it was too low to indicate \n",
    "correlation. All models had low rmse values.  Overall, the lasso model is the most accurate, but \n",
    "none of them are reliable predictors of new data.Many of the precipitation \n",
    "data points were equal to zero, which heavily influenced the models. Results could be improved \n",
    "by narrowing down the goal of the project. For example, if the goal was to see if the amount of \n",
    "precipitation during rainfall events increases with the provided variables, then the \n",
    "rows where precipitation = 0 could be removed.\")"
   ]
  },
  {
   "cell_type": "markdown",
   "metadata": {},
   "source": [
    "## Author(s)\n",
    "\n",
    "<h4> Yiwen Li </h4>\n",
    "\n",
    "## Contributions\n",
    "\n",
    "<h4> Tiffany Zhu </h4>\n",
    "\n",
    "## <h3 align=\"center\"> © IBM Corporation 2021. All rights reserved. <h3/>\n"
   ]
  }
 ],
 "metadata": {
  "kernelspec": {
   "display_name": "R",
   "language": "R",
   "name": "conda-env-r-r"
  },
  "language_info": {
   "codemirror_mode": "r",
   "file_extension": ".r",
   "mimetype": "text/x-r-source",
   "name": "R",
   "pygments_lexer": "r",
   "version": "3.5.1"
  }
 },
 "nbformat": 4,
 "nbformat_minor": 4
}
